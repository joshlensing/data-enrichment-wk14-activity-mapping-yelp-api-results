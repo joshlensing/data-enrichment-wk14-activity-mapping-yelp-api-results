{
 "cells": [
  {
   "cell_type": "markdown",
   "id": "c6d4c9a7",
   "metadata": {
    "id": "8guYh-VR7nlX"
   },
   "source": [
    "# Part 2 - Mapping Yelp Search Results"
   ]
  },
  {
   "cell_type": "markdown",
   "id": "9be6e6c0",
   "metadata": {},
   "source": []
  },
  {
   "cell_type": "markdown",
   "id": "8f1dfbbf",
   "metadata": {},
   "source": [
    "## Obective"
   ]
  },
  {
   "cell_type": "markdown",
   "id": "37daea31",
   "metadata": {
    "id": "8guYh-VR7nlX"
   },
   "source": [
    "- For this CodeAlong, we will be working with the Yelp API results from last class. \n",
    "- You will load in the .csv.gz of your yelp results and prepare the data for visualization.\n",
    "- You will use Plotly Express to create an interactive map with all of the results."
   ]
  },
  {
   "cell_type": "markdown",
   "id": "0a02a2fd",
   "metadata": {
    "id": "8guYh-VR7nlX"
   },
   "source": [
    "## Tools You Will Use\n",
    "- Part 1:\n",
    "    - Yelp API:\n",
    "        - Getting Started: \n",
    "            - https://www.yelp.com/developers/documentation/v3/get_started\n",
    "\n",
    "    - `YelpAPI` python package\n",
    "        -  \"YelpAPI\": https://github.com/gfairchild/yelpapi\n",
    "- Part 2:\n",
    "\n",
    "    - Plotly Express: https://plotly.com/python/getting-started/\n",
    "        - With Mapbox API: https://www.mapbox.com/\n",
    "        - `px.scatter_mapbox` [Documentation](https://plotly.com/python/scattermapbox/): \n",
    "\n",
    "\n"
   ]
  },
  {
   "cell_type": "markdown",
   "id": "a3f15049",
   "metadata": {},
   "source": [
    "### Applying Code From\n",
    "- [Advanced Transformations with Pandas - Part 1](https://login.codingdojo.com/m/376/12529/88086)\n",
    "- [Advanced Transformations with Pandas - Part 2](https://login.codingdojo.com/m/376/12529/88088)"
   ]
  },
  {
   "cell_type": "markdown",
   "id": "745e757f",
   "metadata": {},
   "source": [
    "### Goal"
   ]
  },
  {
   "cell_type": "markdown",
   "id": "a27ea8f9",
   "metadata": {},
   "source": [
    "- We want to create a map with every restaurant plotted as a scatter plot with detailed information that appears when we hover over a business\n",
    "- We will use plotly express's `px.scatter_mapbox` function to accomplish this.\n",
    "    - https://plotly.com/python/scattermapbox/\n",
    "    \n",
    "    - We will need a Mapbox API token for some of the options:\n",
    "        - https://studio.mapbox.com/\n",
    "    "
   ]
  },
  {
   "cell_type": "markdown",
   "id": "8c50b2b6",
   "metadata": {},
   "source": [
    "# Loading Data from Part 1"
   ]
  },
  {
   "cell_type": "code",
   "execution_count": 1,
   "id": "ffa40ba8",
   "metadata": {},
   "outputs": [
    {
     "name": "stdout",
     "output_type": "stream",
     "text": [
      "Requirement already satisfied: plotly in c:\\users\\joshl\\anaconda3\\envs\\dojo-env\\lib\\site-packages (5.11.0)\n",
      "Requirement already satisfied: tenacity>=6.2.0 in c:\\users\\joshl\\anaconda3\\envs\\dojo-env\\lib\\site-packages (from plotly) (8.1.0)\n"
     ]
    }
   ],
   "source": [
    "## Plotly is not included in your dojo-env\n",
    "!pip install plotly"
   ]
  },
  {
   "cell_type": "code",
   "execution_count": 2,
   "id": "6c26b323",
   "metadata": {},
   "outputs": [],
   "source": [
    "# Standard Imports\n",
    "import numpy as np\n",
    "import pandas as pd\n",
    "import matplotlib.pyplot as plt\n",
    "import seaborn as sns\n",
    "\n",
    "import json\n",
    "\n",
    "## importing plotly \n",
    "import plotly.express as px"
   ]
  },
  {
   "cell_type": "code",
   "execution_count": 3,
   "id": "73f882e7",
   "metadata": {},
   "outputs": [
    {
     "data": {
      "text/html": [
       "<div>\n",
       "<style scoped>\n",
       "    .dataframe tbody tr th:only-of-type {\n",
       "        vertical-align: middle;\n",
       "    }\n",
       "\n",
       "    .dataframe tbody tr th {\n",
       "        vertical-align: top;\n",
       "    }\n",
       "\n",
       "    .dataframe thead th {\n",
       "        text-align: right;\n",
       "    }\n",
       "</style>\n",
       "<table border=\"1\" class=\"dataframe\">\n",
       "  <thead>\n",
       "    <tr style=\"text-align: right;\">\n",
       "      <th></th>\n",
       "      <th>id</th>\n",
       "      <th>alias</th>\n",
       "      <th>name</th>\n",
       "      <th>image_url</th>\n",
       "      <th>is_closed</th>\n",
       "      <th>url</th>\n",
       "      <th>review_count</th>\n",
       "      <th>categories</th>\n",
       "      <th>rating</th>\n",
       "      <th>coordinates</th>\n",
       "      <th>transactions</th>\n",
       "      <th>price</th>\n",
       "      <th>location</th>\n",
       "      <th>phone</th>\n",
       "      <th>display_phone</th>\n",
       "      <th>distance</th>\n",
       "    </tr>\n",
       "  </thead>\n",
       "  <tbody>\n",
       "    <tr>\n",
       "      <th>0</th>\n",
       "      <td>pms70Lg_z7c2y5ojukohBQ</td>\n",
       "      <td>miyabi-japanese-cuisine-reno</td>\n",
       "      <td>MIYABI Japanese Cuisine</td>\n",
       "      <td>https://s3-media1.fl.yelpcdn.com/bphoto/hE5VjD...</td>\n",
       "      <td>False</td>\n",
       "      <td>https://www.yelp.com/biz/miyabi-japanese-cuisi...</td>\n",
       "      <td>144</td>\n",
       "      <td>[{'alias': 'sushi', 'title': 'Sushi Bars'}, {'...</td>\n",
       "      <td>4.5</td>\n",
       "      <td>{'latitude': 39.4035814750889, 'longitude': -1...</td>\n",
       "      <td>[]</td>\n",
       "      <td>$$</td>\n",
       "      <td>{'address1': '13967 S Virginia St', 'address2'...</td>\n",
       "      <td>1.775409e+10</td>\n",
       "      <td>(775) 409-3520</td>\n",
       "      <td>18553.049571</td>\n",
       "    </tr>\n",
       "    <tr>\n",
       "      <th>1</th>\n",
       "      <td>W9y4JkMqy2dFNwYc3Y5cKQ</td>\n",
       "      <td>hinoki-sushi-reno</td>\n",
       "      <td>Hinoki Sushi</td>\n",
       "      <td>https://s3-media3.fl.yelpcdn.com/bphoto/vwh7Ea...</td>\n",
       "      <td>False</td>\n",
       "      <td>https://www.yelp.com/biz/hinoki-sushi-reno?adj...</td>\n",
       "      <td>843</td>\n",
       "      <td>[{'alias': 'sushi', 'title': 'Sushi Bars'}, {'...</td>\n",
       "      <td>4.0</td>\n",
       "      <td>{'latitude': 39.473410597855896, 'longitude': ...</td>\n",
       "      <td>['delivery']</td>\n",
       "      <td>$$</td>\n",
       "      <td>{'address1': '5270 Longley Ln', 'address2': ''...</td>\n",
       "      <td>1.775409e+10</td>\n",
       "      <td>(775) 409-4994</td>\n",
       "      <td>11412.584176</td>\n",
       "    </tr>\n",
       "    <tr>\n",
       "      <th>2</th>\n",
       "      <td>3FPi2yKCIh0Hh3iBg8faYA</td>\n",
       "      <td>tokyo-sushi-reno-2</td>\n",
       "      <td>Tokyo Sushi</td>\n",
       "      <td>https://s3-media4.fl.yelpcdn.com/bphoto/WVhsaZ...</td>\n",
       "      <td>False</td>\n",
       "      <td>https://www.yelp.com/biz/tokyo-sushi-reno-2?ad...</td>\n",
       "      <td>978</td>\n",
       "      <td>[{'alias': 'sushi', 'title': 'Sushi Bars'}, {'...</td>\n",
       "      <td>4.0</td>\n",
       "      <td>{'latitude': 39.50491, 'longitude': -119.80335}</td>\n",
       "      <td>[]</td>\n",
       "      <td>$$</td>\n",
       "      <td>{'address1': '1999 S Virginia St', 'address2':...</td>\n",
       "      <td>1.775826e+10</td>\n",
       "      <td>(775) 825-8828</td>\n",
       "      <td>6560.327423</td>\n",
       "    </tr>\n",
       "    <tr>\n",
       "      <th>3</th>\n",
       "      <td>gExn3d0VMMJWlSICsGHGfg</td>\n",
       "      <td>ohana-sushi-sparks-3</td>\n",
       "      <td>Ohana Sushi</td>\n",
       "      <td>https://s3-media2.fl.yelpcdn.com/bphoto/nMfIDn...</td>\n",
       "      <td>False</td>\n",
       "      <td>https://www.yelp.com/biz/ohana-sushi-sparks-3?...</td>\n",
       "      <td>495</td>\n",
       "      <td>[{'alias': 'sushi', 'title': 'Sushi Bars'}, {'...</td>\n",
       "      <td>4.5</td>\n",
       "      <td>{'latitude': 39.52066, 'longitude': -119.740751}</td>\n",
       "      <td>[]</td>\n",
       "      <td>$$</td>\n",
       "      <td>{'address1': '1560 S Stanford Way', 'address2'...</td>\n",
       "      <td>1.775454e+10</td>\n",
       "      <td>(775) 453-9722</td>\n",
       "      <td>10134.379359</td>\n",
       "    </tr>\n",
       "    <tr>\n",
       "      <th>4</th>\n",
       "      <td>mc-U-3T6UMN9x7SVm9Yn3A</td>\n",
       "      <td>hinoki-o-reno-2</td>\n",
       "      <td>Hinoki O</td>\n",
       "      <td>https://s3-media4.fl.yelpcdn.com/bphoto/ZsNOKx...</td>\n",
       "      <td>False</td>\n",
       "      <td>https://www.yelp.com/biz/hinoki-o-reno-2?adjus...</td>\n",
       "      <td>26</td>\n",
       "      <td>[{'alias': 'japanese', 'title': 'Japanese'}, {...</td>\n",
       "      <td>5.0</td>\n",
       "      <td>{'latitude': 39.46823189149659, 'longitude': -...</td>\n",
       "      <td>[]</td>\n",
       "      <td>NaN</td>\n",
       "      <td>{'address1': '7500 Rancharrah Pkwy', 'address2...</td>\n",
       "      <td>1.775500e+10</td>\n",
       "      <td>(775) 499-5818</td>\n",
       "      <td>10421.916314</td>\n",
       "    </tr>\n",
       "  </tbody>\n",
       "</table>\n",
       "</div>"
      ],
      "text/plain": [
       "                       id                         alias  \\\n",
       "0  pms70Lg_z7c2y5ojukohBQ  miyabi-japanese-cuisine-reno   \n",
       "1  W9y4JkMqy2dFNwYc3Y5cKQ             hinoki-sushi-reno   \n",
       "2  3FPi2yKCIh0Hh3iBg8faYA            tokyo-sushi-reno-2   \n",
       "3  gExn3d0VMMJWlSICsGHGfg          ohana-sushi-sparks-3   \n",
       "4  mc-U-3T6UMN9x7SVm9Yn3A               hinoki-o-reno-2   \n",
       "\n",
       "                      name                                          image_url  \\\n",
       "0  MIYABI Japanese Cuisine  https://s3-media1.fl.yelpcdn.com/bphoto/hE5VjD...   \n",
       "1             Hinoki Sushi  https://s3-media3.fl.yelpcdn.com/bphoto/vwh7Ea...   \n",
       "2              Tokyo Sushi  https://s3-media4.fl.yelpcdn.com/bphoto/WVhsaZ...   \n",
       "3              Ohana Sushi  https://s3-media2.fl.yelpcdn.com/bphoto/nMfIDn...   \n",
       "4                 Hinoki O  https://s3-media4.fl.yelpcdn.com/bphoto/ZsNOKx...   \n",
       "\n",
       "   is_closed                                                url  review_count  \\\n",
       "0      False  https://www.yelp.com/biz/miyabi-japanese-cuisi...           144   \n",
       "1      False  https://www.yelp.com/biz/hinoki-sushi-reno?adj...           843   \n",
       "2      False  https://www.yelp.com/biz/tokyo-sushi-reno-2?ad...           978   \n",
       "3      False  https://www.yelp.com/biz/ohana-sushi-sparks-3?...           495   \n",
       "4      False  https://www.yelp.com/biz/hinoki-o-reno-2?adjus...            26   \n",
       "\n",
       "                                          categories  rating  \\\n",
       "0  [{'alias': 'sushi', 'title': 'Sushi Bars'}, {'...     4.5   \n",
       "1  [{'alias': 'sushi', 'title': 'Sushi Bars'}, {'...     4.0   \n",
       "2  [{'alias': 'sushi', 'title': 'Sushi Bars'}, {'...     4.0   \n",
       "3  [{'alias': 'sushi', 'title': 'Sushi Bars'}, {'...     4.5   \n",
       "4  [{'alias': 'japanese', 'title': 'Japanese'}, {...     5.0   \n",
       "\n",
       "                                         coordinates  transactions price  \\\n",
       "0  {'latitude': 39.4035814750889, 'longitude': -1...            []    $$   \n",
       "1  {'latitude': 39.473410597855896, 'longitude': ...  ['delivery']    $$   \n",
       "2    {'latitude': 39.50491, 'longitude': -119.80335}            []    $$   \n",
       "3   {'latitude': 39.52066, 'longitude': -119.740751}            []    $$   \n",
       "4  {'latitude': 39.46823189149659, 'longitude': -...            []   NaN   \n",
       "\n",
       "                                            location         phone  \\\n",
       "0  {'address1': '13967 S Virginia St', 'address2'...  1.775409e+10   \n",
       "1  {'address1': '5270 Longley Ln', 'address2': ''...  1.775409e+10   \n",
       "2  {'address1': '1999 S Virginia St', 'address2':...  1.775826e+10   \n",
       "3  {'address1': '1560 S Stanford Way', 'address2'...  1.775454e+10   \n",
       "4  {'address1': '7500 Rancharrah Pkwy', 'address2...  1.775500e+10   \n",
       "\n",
       "    display_phone      distance  \n",
       "0  (775) 409-3520  18553.049571  \n",
       "1  (775) 409-4994  11412.584176  \n",
       "2  (775) 825-8828   6560.327423  \n",
       "3  (775) 453-9722  10134.379359  \n",
       "4  (775) 499-5818  10421.916314  "
      ]
     },
     "execution_count": 3,
     "metadata": {},
     "output_type": "execute_result"
    }
   ],
   "source": [
    "## Load in csv.gz\n",
    "df = pd.read_csv('Data/Reno-Sushi.csv.gz')\n",
    "df.head()"
   ]
  },
  {
   "cell_type": "markdown",
   "id": "182d9a50",
   "metadata": {},
   "source": [
    "## Required Preprocessing "
   ]
  },
  {
   "cell_type": "markdown",
   "id": "9db8a265",
   "metadata": {},
   "source": [
    "- 1. We need to get the latitude and longitude for each business as separate columns.\n",
    "- We also want to be able to show the restaurants:\n",
    "    - name,\n",
    "    - price range\n",
    "    - address\n",
    "    - and if they do delivery or takeout."
   ]
  },
  {
   "cell_type": "markdown",
   "id": "13d541ac",
   "metadata": {},
   "source": [
    "### Separating Latitude and Longitude"
   ]
  },
  {
   "cell_type": "code",
   "execution_count": 4,
   "id": "825c85f0",
   "metadata": {},
   "outputs": [
    {
     "data": {
      "text/html": [
       "<div>\n",
       "<style scoped>\n",
       "    .dataframe tbody tr th:only-of-type {\n",
       "        vertical-align: middle;\n",
       "    }\n",
       "\n",
       "    .dataframe tbody tr th {\n",
       "        vertical-align: top;\n",
       "    }\n",
       "\n",
       "    .dataframe thead th {\n",
       "        text-align: right;\n",
       "    }\n",
       "</style>\n",
       "<table border=\"1\" class=\"dataframe\">\n",
       "  <thead>\n",
       "    <tr style=\"text-align: right;\">\n",
       "      <th></th>\n",
       "      <th>0</th>\n",
       "    </tr>\n",
       "  </thead>\n",
       "  <tbody>\n",
       "    <tr>\n",
       "      <th>0</th>\n",
       "      <td>{'latitude': 39.4035814750889, 'longitude': -1...</td>\n",
       "    </tr>\n",
       "    <tr>\n",
       "      <th>1</th>\n",
       "      <td>{'latitude': 39.473410597855896, 'longitude': ...</td>\n",
       "    </tr>\n",
       "    <tr>\n",
       "      <th>2</th>\n",
       "      <td>{'latitude': 39.50491, 'longitude': -119.80335}</td>\n",
       "    </tr>\n",
       "    <tr>\n",
       "      <th>3</th>\n",
       "      <td>{'latitude': 39.52066, 'longitude': -119.740751}</td>\n",
       "    </tr>\n",
       "    <tr>\n",
       "      <th>4</th>\n",
       "      <td>{'latitude': 39.46823189149659, 'longitude': -...</td>\n",
       "    </tr>\n",
       "    <tr>\n",
       "      <th>...</th>\n",
       "      <td>...</td>\n",
       "    </tr>\n",
       "    <tr>\n",
       "      <th>255</th>\n",
       "      <td>{'latitude': 38.917536, 'longitude': -120.011056}</td>\n",
       "    </tr>\n",
       "    <tr>\n",
       "      <th>256</th>\n",
       "      <td>{'latitude': 39.53139031542699, 'longitude': -...</td>\n",
       "    </tr>\n",
       "    <tr>\n",
       "      <th>257</th>\n",
       "      <td>{'latitude': 39.39505095, 'longitude': -119.76...</td>\n",
       "    </tr>\n",
       "    <tr>\n",
       "      <th>258</th>\n",
       "      <td>{'latitude': 39.55529322, 'longitude': -119.75...</td>\n",
       "    </tr>\n",
       "    <tr>\n",
       "      <th>259</th>\n",
       "      <td>{'latitude': 38.95421437, 'longitude': -119.94...</td>\n",
       "    </tr>\n",
       "  </tbody>\n",
       "</table>\n",
       "<p>260 rows × 1 columns</p>\n",
       "</div>"
      ],
      "text/plain": [
       "                                                     0\n",
       "0    {'latitude': 39.4035814750889, 'longitude': -1...\n",
       "1    {'latitude': 39.473410597855896, 'longitude': ...\n",
       "2      {'latitude': 39.50491, 'longitude': -119.80335}\n",
       "3     {'latitude': 39.52066, 'longitude': -119.740751}\n",
       "4    {'latitude': 39.46823189149659, 'longitude': -...\n",
       "..                                                 ...\n",
       "255  {'latitude': 38.917536, 'longitude': -120.011056}\n",
       "256  {'latitude': 39.53139031542699, 'longitude': -...\n",
       "257  {'latitude': 39.39505095, 'longitude': -119.76...\n",
       "258  {'latitude': 39.55529322, 'longitude': -119.75...\n",
       "259  {'latitude': 38.95421437, 'longitude': -119.94...\n",
       "\n",
       "[260 rows x 1 columns]"
      ]
     },
     "execution_count": 4,
     "metadata": {},
     "output_type": "execute_result"
    }
   ],
   "source": [
    "## use .apply pd.Series to convert a dict to columns\n",
    "df['coordinates'].apply(pd.Series)"
   ]
  },
  {
   "cell_type": "markdown",
   "id": "faecca22",
   "metadata": {},
   "source": [
    "- Why didn't that work???"
   ]
  },
  {
   "cell_type": "code",
   "execution_count": 5,
   "id": "4c52b779",
   "metadata": {},
   "outputs": [
    {
     "data": {
      "text/plain": [
       "\"{'latitude': 39.473410597855896, 'longitude': -119.76392370361854}\""
      ]
     },
     "execution_count": 5,
     "metadata": {},
     "output_type": "execute_result"
    }
   ],
   "source": [
    "## slice out a single test coordinate\n",
    "test_coord = df.loc[1, 'coordinates']\n",
    "test_coord"
   ]
  },
  {
   "cell_type": "markdown",
   "id": "819d8252",
   "metadata": {},
   "source": [
    "- Its not a dictionary anymore!!! WTF??\n",
    "    - CSV files cant store iterables (lists, dictionaries) so they get converted to strings."
   ]
  },
  {
   "cell_type": "markdown",
   "id": "df7e7c71",
   "metadata": {},
   "source": [
    "### Fixing the String-Dictionaries"
   ]
  },
  {
   "cell_type": "markdown",
   "id": "76185b76",
   "metadata": {},
   "source": [
    "- The json module has another version of load and dump called `json.loads` and `json.dumps`\n",
    "    - These are designed to process STRINGS instead of files. \n",
    "    \n",
    "- If we use `json.loads` we can convert our string dictionary into an actual dictionary. "
   ]
  },
  {
   "cell_type": "code",
   "execution_count": 6,
   "id": "8e4ab9ed",
   "metadata": {},
   "outputs": [
    {
     "ename": "JSONDecodeError",
     "evalue": "Expecting property name enclosed in double quotes: line 1 column 2 (char 1)",
     "output_type": "error",
     "traceback": [
      "\u001b[1;31m---------------------------------------------------------------------------\u001b[0m",
      "\u001b[1;31mJSONDecodeError\u001b[0m                           Traceback (most recent call last)",
      "Cell \u001b[1;32mIn [6], line 2\u001b[0m\n\u001b[0;32m      1\u001b[0m \u001b[38;5;66;03m## Use json.loads on the test coordinate\u001b[39;00m\n\u001b[1;32m----> 2\u001b[0m \u001b[43mjson\u001b[49m\u001b[38;5;241;43m.\u001b[39;49m\u001b[43mloads\u001b[49m\u001b[43m(\u001b[49m\u001b[43mtest_coord\u001b[49m\u001b[43m)\u001b[49m\n",
      "File \u001b[1;32m~\\anaconda3\\envs\\dojo-env\\lib\\json\\__init__.py:346\u001b[0m, in \u001b[0;36mloads\u001b[1;34m(s, cls, object_hook, parse_float, parse_int, parse_constant, object_pairs_hook, **kw)\u001b[0m\n\u001b[0;32m    341\u001b[0m     s \u001b[38;5;241m=\u001b[39m s\u001b[38;5;241m.\u001b[39mdecode(detect_encoding(s), \u001b[38;5;124m'\u001b[39m\u001b[38;5;124msurrogatepass\u001b[39m\u001b[38;5;124m'\u001b[39m)\n\u001b[0;32m    343\u001b[0m \u001b[38;5;28;01mif\u001b[39;00m (\u001b[38;5;28mcls\u001b[39m \u001b[38;5;129;01mis\u001b[39;00m \u001b[38;5;28;01mNone\u001b[39;00m \u001b[38;5;129;01mand\u001b[39;00m object_hook \u001b[38;5;129;01mis\u001b[39;00m \u001b[38;5;28;01mNone\u001b[39;00m \u001b[38;5;129;01mand\u001b[39;00m\n\u001b[0;32m    344\u001b[0m         parse_int \u001b[38;5;129;01mis\u001b[39;00m \u001b[38;5;28;01mNone\u001b[39;00m \u001b[38;5;129;01mand\u001b[39;00m parse_float \u001b[38;5;129;01mis\u001b[39;00m \u001b[38;5;28;01mNone\u001b[39;00m \u001b[38;5;129;01mand\u001b[39;00m\n\u001b[0;32m    345\u001b[0m         parse_constant \u001b[38;5;129;01mis\u001b[39;00m \u001b[38;5;28;01mNone\u001b[39;00m \u001b[38;5;129;01mand\u001b[39;00m object_pairs_hook \u001b[38;5;129;01mis\u001b[39;00m \u001b[38;5;28;01mNone\u001b[39;00m \u001b[38;5;129;01mand\u001b[39;00m \u001b[38;5;129;01mnot\u001b[39;00m kw):\n\u001b[1;32m--> 346\u001b[0m     \u001b[38;5;28;01mreturn\u001b[39;00m \u001b[43m_default_decoder\u001b[49m\u001b[38;5;241;43m.\u001b[39;49m\u001b[43mdecode\u001b[49m\u001b[43m(\u001b[49m\u001b[43ms\u001b[49m\u001b[43m)\u001b[49m\n\u001b[0;32m    347\u001b[0m \u001b[38;5;28;01mif\u001b[39;00m \u001b[38;5;28mcls\u001b[39m \u001b[38;5;129;01mis\u001b[39;00m \u001b[38;5;28;01mNone\u001b[39;00m:\n\u001b[0;32m    348\u001b[0m     \u001b[38;5;28mcls\u001b[39m \u001b[38;5;241m=\u001b[39m JSONDecoder\n",
      "File \u001b[1;32m~\\anaconda3\\envs\\dojo-env\\lib\\json\\decoder.py:337\u001b[0m, in \u001b[0;36mJSONDecoder.decode\u001b[1;34m(self, s, _w)\u001b[0m\n\u001b[0;32m    332\u001b[0m \u001b[38;5;28;01mdef\u001b[39;00m \u001b[38;5;21mdecode\u001b[39m(\u001b[38;5;28mself\u001b[39m, s, _w\u001b[38;5;241m=\u001b[39mWHITESPACE\u001b[38;5;241m.\u001b[39mmatch):\n\u001b[0;32m    333\u001b[0m     \u001b[38;5;124;03m\"\"\"Return the Python representation of ``s`` (a ``str`` instance\u001b[39;00m\n\u001b[0;32m    334\u001b[0m \u001b[38;5;124;03m    containing a JSON document).\u001b[39;00m\n\u001b[0;32m    335\u001b[0m \n\u001b[0;32m    336\u001b[0m \u001b[38;5;124;03m    \"\"\"\u001b[39;00m\n\u001b[1;32m--> 337\u001b[0m     obj, end \u001b[38;5;241m=\u001b[39m \u001b[38;5;28;43mself\u001b[39;49m\u001b[38;5;241;43m.\u001b[39;49m\u001b[43mraw_decode\u001b[49m\u001b[43m(\u001b[49m\u001b[43ms\u001b[49m\u001b[43m,\u001b[49m\u001b[43m \u001b[49m\u001b[43midx\u001b[49m\u001b[38;5;241;43m=\u001b[39;49m\u001b[43m_w\u001b[49m\u001b[43m(\u001b[49m\u001b[43ms\u001b[49m\u001b[43m,\u001b[49m\u001b[43m \u001b[49m\u001b[38;5;241;43m0\u001b[39;49m\u001b[43m)\u001b[49m\u001b[38;5;241;43m.\u001b[39;49m\u001b[43mend\u001b[49m\u001b[43m(\u001b[49m\u001b[43m)\u001b[49m\u001b[43m)\u001b[49m\n\u001b[0;32m    338\u001b[0m     end \u001b[38;5;241m=\u001b[39m _w(s, end)\u001b[38;5;241m.\u001b[39mend()\n\u001b[0;32m    339\u001b[0m     \u001b[38;5;28;01mif\u001b[39;00m end \u001b[38;5;241m!=\u001b[39m \u001b[38;5;28mlen\u001b[39m(s):\n",
      "File \u001b[1;32m~\\anaconda3\\envs\\dojo-env\\lib\\json\\decoder.py:353\u001b[0m, in \u001b[0;36mJSONDecoder.raw_decode\u001b[1;34m(self, s, idx)\u001b[0m\n\u001b[0;32m    344\u001b[0m \u001b[38;5;124;03m\"\"\"Decode a JSON document from ``s`` (a ``str`` beginning with\u001b[39;00m\n\u001b[0;32m    345\u001b[0m \u001b[38;5;124;03ma JSON document) and return a 2-tuple of the Python\u001b[39;00m\n\u001b[0;32m    346\u001b[0m \u001b[38;5;124;03mrepresentation and the index in ``s`` where the document ended.\u001b[39;00m\n\u001b[1;32m   (...)\u001b[0m\n\u001b[0;32m    350\u001b[0m \n\u001b[0;32m    351\u001b[0m \u001b[38;5;124;03m\"\"\"\u001b[39;00m\n\u001b[0;32m    352\u001b[0m \u001b[38;5;28;01mtry\u001b[39;00m:\n\u001b[1;32m--> 353\u001b[0m     obj, end \u001b[38;5;241m=\u001b[39m \u001b[38;5;28;43mself\u001b[39;49m\u001b[38;5;241;43m.\u001b[39;49m\u001b[43mscan_once\u001b[49m\u001b[43m(\u001b[49m\u001b[43ms\u001b[49m\u001b[43m,\u001b[49m\u001b[43m \u001b[49m\u001b[43midx\u001b[49m\u001b[43m)\u001b[49m\n\u001b[0;32m    354\u001b[0m \u001b[38;5;28;01mexcept\u001b[39;00m \u001b[38;5;167;01mStopIteration\u001b[39;00m \u001b[38;5;28;01mas\u001b[39;00m err:\n\u001b[0;32m    355\u001b[0m     \u001b[38;5;28;01mraise\u001b[39;00m JSONDecodeError(\u001b[38;5;124m\"\u001b[39m\u001b[38;5;124mExpecting value\u001b[39m\u001b[38;5;124m\"\u001b[39m, s, err\u001b[38;5;241m.\u001b[39mvalue) \u001b[38;5;28;01mfrom\u001b[39;00m \u001b[38;5;28mNone\u001b[39m\n",
      "\u001b[1;31mJSONDecodeError\u001b[0m: Expecting property name enclosed in double quotes: line 1 column 2 (char 1)"
     ]
    }
   ],
   "source": [
    "## Use json.loads on the test coordinate\n",
    "json.loads(test_coord)"
   ]
  },
  {
   "cell_type": "markdown",
   "id": "89771042",
   "metadata": {},
   "source": [
    "- JSON requires double quotes!"
   ]
  },
  {
   "cell_type": "code",
   "execution_count": 7,
   "id": "25a459c3",
   "metadata": {},
   "outputs": [
    {
     "data": {
      "text/plain": [
       "'{\"latitude\": 39.473410597855896, \"longitude\": -119.76392370361854}'"
      ]
     },
     "execution_count": 7,
     "metadata": {},
     "output_type": "execute_result"
    }
   ],
   "source": [
    "## replace single ' with \" \n",
    "test_coord = test_coord.replace(\"'\", '\"')\n",
    "test_coord"
   ]
  },
  {
   "cell_type": "code",
   "execution_count": 8,
   "id": "baf7b4ce",
   "metadata": {},
   "outputs": [
    {
     "data": {
      "text/plain": [
       "{'latitude': 39.473410597855896, 'longitude': -119.76392370361854}"
      ]
     },
     "execution_count": 8,
     "metadata": {},
     "output_type": "execute_result"
    }
   ],
   "source": [
    "## Use json.loads on the test coordinate, again\n",
    "json.loads(test_coord)"
   ]
  },
  {
   "cell_type": "markdown",
   "id": "ac9a2c61",
   "metadata": {},
   "source": [
    "### Now, how can we apply this same process to the entire column??"
   ]
  },
  {
   "cell_type": "code",
   "execution_count": 9,
   "id": "815d26be",
   "metadata": {},
   "outputs": [],
   "source": [
    "## replace ' with \" (entire column)\n",
    "df['coordinates'] = df['coordinates'].str.replace(\"'\", '\"')\n",
    "## apply json.loads\n",
    "df['coordinates'] = df['coordinates'].apply(json.loads)"
   ]
  },
  {
   "cell_type": "code",
   "execution_count": 10,
   "id": "b417c990",
   "metadata": {},
   "outputs": [
    {
     "data": {
      "text/plain": [
       "{'latitude': 39.4841, 'longitude': -119.74679}"
      ]
     },
     "execution_count": 10,
     "metadata": {},
     "output_type": "execute_result"
    }
   ],
   "source": [
    "## slice out a single test coordinate\n",
    "test_coord = df.loc[5, 'coordinates']\n",
    "test_coord"
   ]
  },
  {
   "cell_type": "markdown",
   "id": "a825c2f4",
   "metadata": {},
   "source": [
    "### Using Apply with pd.Series to convert a dictionary column into multiple columns"
   ]
  },
  {
   "cell_type": "code",
   "execution_count": 11,
   "id": "9b06ad2c",
   "metadata": {},
   "outputs": [
    {
     "data": {
      "text/html": [
       "<div>\n",
       "<style scoped>\n",
       "    .dataframe tbody tr th:only-of-type {\n",
       "        vertical-align: middle;\n",
       "    }\n",
       "\n",
       "    .dataframe tbody tr th {\n",
       "        vertical-align: top;\n",
       "    }\n",
       "\n",
       "    .dataframe thead th {\n",
       "        text-align: right;\n",
       "    }\n",
       "</style>\n",
       "<table border=\"1\" class=\"dataframe\">\n",
       "  <thead>\n",
       "    <tr style=\"text-align: right;\">\n",
       "      <th></th>\n",
       "      <th>latitude</th>\n",
       "      <th>longitude</th>\n",
       "    </tr>\n",
       "  </thead>\n",
       "  <tbody>\n",
       "    <tr>\n",
       "      <th>0</th>\n",
       "      <td>39.403581</td>\n",
       "      <td>-119.748760</td>\n",
       "    </tr>\n",
       "    <tr>\n",
       "      <th>1</th>\n",
       "      <td>39.473411</td>\n",
       "      <td>-119.763924</td>\n",
       "    </tr>\n",
       "    <tr>\n",
       "      <th>2</th>\n",
       "      <td>39.504910</td>\n",
       "      <td>-119.803350</td>\n",
       "    </tr>\n",
       "    <tr>\n",
       "      <th>3</th>\n",
       "      <td>39.520660</td>\n",
       "      <td>-119.740751</td>\n",
       "    </tr>\n",
       "    <tr>\n",
       "      <th>4</th>\n",
       "      <td>39.468232</td>\n",
       "      <td>-119.793039</td>\n",
       "    </tr>\n",
       "    <tr>\n",
       "      <th>...</th>\n",
       "      <td>...</td>\n",
       "      <td>...</td>\n",
       "    </tr>\n",
       "    <tr>\n",
       "      <th>255</th>\n",
       "      <td>38.917536</td>\n",
       "      <td>-120.011056</td>\n",
       "    </tr>\n",
       "    <tr>\n",
       "      <th>256</th>\n",
       "      <td>39.531390</td>\n",
       "      <td>-119.832515</td>\n",
       "    </tr>\n",
       "    <tr>\n",
       "      <th>257</th>\n",
       "      <td>39.395051</td>\n",
       "      <td>-119.765624</td>\n",
       "    </tr>\n",
       "    <tr>\n",
       "      <th>258</th>\n",
       "      <td>39.555293</td>\n",
       "      <td>-119.754152</td>\n",
       "    </tr>\n",
       "    <tr>\n",
       "      <th>259</th>\n",
       "      <td>38.954214</td>\n",
       "      <td>-119.942754</td>\n",
       "    </tr>\n",
       "  </tbody>\n",
       "</table>\n",
       "<p>260 rows × 2 columns</p>\n",
       "</div>"
      ],
      "text/plain": [
       "      latitude   longitude\n",
       "0    39.403581 -119.748760\n",
       "1    39.473411 -119.763924\n",
       "2    39.504910 -119.803350\n",
       "3    39.520660 -119.740751\n",
       "4    39.468232 -119.793039\n",
       "..         ...         ...\n",
       "255  38.917536 -120.011056\n",
       "256  39.531390 -119.832515\n",
       "257  39.395051 -119.765624\n",
       "258  39.555293 -119.754152\n",
       "259  38.954214 -119.942754\n",
       "\n",
       "[260 rows x 2 columns]"
      ]
     },
     "execution_count": 11,
     "metadata": {},
     "output_type": "execute_result"
    }
   ],
   "source": [
    "## use .apply pd.Series to convert a dict to columns\n",
    "df['coordinates'].apply(pd.Series)"
   ]
  },
  {
   "cell_type": "code",
   "execution_count": 12,
   "id": "a09d00b1",
   "metadata": {},
   "outputs": [
    {
     "data": {
      "text/html": [
       "<div>\n",
       "<style scoped>\n",
       "    .dataframe tbody tr th:only-of-type {\n",
       "        vertical-align: middle;\n",
       "    }\n",
       "\n",
       "    .dataframe tbody tr th {\n",
       "        vertical-align: top;\n",
       "    }\n",
       "\n",
       "    .dataframe thead th {\n",
       "        text-align: right;\n",
       "    }\n",
       "</style>\n",
       "<table border=\"1\" class=\"dataframe\">\n",
       "  <thead>\n",
       "    <tr style=\"text-align: right;\">\n",
       "      <th></th>\n",
       "      <th>id</th>\n",
       "      <th>alias</th>\n",
       "      <th>name</th>\n",
       "      <th>image_url</th>\n",
       "      <th>is_closed</th>\n",
       "      <th>url</th>\n",
       "      <th>review_count</th>\n",
       "      <th>categories</th>\n",
       "      <th>rating</th>\n",
       "      <th>transactions</th>\n",
       "      <th>price</th>\n",
       "      <th>location</th>\n",
       "      <th>phone</th>\n",
       "      <th>display_phone</th>\n",
       "      <th>distance</th>\n",
       "      <th>latitude</th>\n",
       "      <th>longitude</th>\n",
       "    </tr>\n",
       "  </thead>\n",
       "  <tbody>\n",
       "    <tr>\n",
       "      <th>0</th>\n",
       "      <td>pms70Lg_z7c2y5ojukohBQ</td>\n",
       "      <td>miyabi-japanese-cuisine-reno</td>\n",
       "      <td>MIYABI Japanese Cuisine</td>\n",
       "      <td>https://s3-media1.fl.yelpcdn.com/bphoto/hE5VjD...</td>\n",
       "      <td>False</td>\n",
       "      <td>https://www.yelp.com/biz/miyabi-japanese-cuisi...</td>\n",
       "      <td>144</td>\n",
       "      <td>[{'alias': 'sushi', 'title': 'Sushi Bars'}, {'...</td>\n",
       "      <td>4.5</td>\n",
       "      <td>[]</td>\n",
       "      <td>$$</td>\n",
       "      <td>{'address1': '13967 S Virginia St', 'address2'...</td>\n",
       "      <td>1.775409e+10</td>\n",
       "      <td>(775) 409-3520</td>\n",
       "      <td>18553.049571</td>\n",
       "      <td>39.403581</td>\n",
       "      <td>-119.748760</td>\n",
       "    </tr>\n",
       "    <tr>\n",
       "      <th>1</th>\n",
       "      <td>W9y4JkMqy2dFNwYc3Y5cKQ</td>\n",
       "      <td>hinoki-sushi-reno</td>\n",
       "      <td>Hinoki Sushi</td>\n",
       "      <td>https://s3-media3.fl.yelpcdn.com/bphoto/vwh7Ea...</td>\n",
       "      <td>False</td>\n",
       "      <td>https://www.yelp.com/biz/hinoki-sushi-reno?adj...</td>\n",
       "      <td>843</td>\n",
       "      <td>[{'alias': 'sushi', 'title': 'Sushi Bars'}, {'...</td>\n",
       "      <td>4.0</td>\n",
       "      <td>['delivery']</td>\n",
       "      <td>$$</td>\n",
       "      <td>{'address1': '5270 Longley Ln', 'address2': ''...</td>\n",
       "      <td>1.775409e+10</td>\n",
       "      <td>(775) 409-4994</td>\n",
       "      <td>11412.584176</td>\n",
       "      <td>39.473411</td>\n",
       "      <td>-119.763924</td>\n",
       "    </tr>\n",
       "    <tr>\n",
       "      <th>2</th>\n",
       "      <td>3FPi2yKCIh0Hh3iBg8faYA</td>\n",
       "      <td>tokyo-sushi-reno-2</td>\n",
       "      <td>Tokyo Sushi</td>\n",
       "      <td>https://s3-media4.fl.yelpcdn.com/bphoto/WVhsaZ...</td>\n",
       "      <td>False</td>\n",
       "      <td>https://www.yelp.com/biz/tokyo-sushi-reno-2?ad...</td>\n",
       "      <td>978</td>\n",
       "      <td>[{'alias': 'sushi', 'title': 'Sushi Bars'}, {'...</td>\n",
       "      <td>4.0</td>\n",
       "      <td>[]</td>\n",
       "      <td>$$</td>\n",
       "      <td>{'address1': '1999 S Virginia St', 'address2':...</td>\n",
       "      <td>1.775826e+10</td>\n",
       "      <td>(775) 825-8828</td>\n",
       "      <td>6560.327423</td>\n",
       "      <td>39.504910</td>\n",
       "      <td>-119.803350</td>\n",
       "    </tr>\n",
       "    <tr>\n",
       "      <th>3</th>\n",
       "      <td>gExn3d0VMMJWlSICsGHGfg</td>\n",
       "      <td>ohana-sushi-sparks-3</td>\n",
       "      <td>Ohana Sushi</td>\n",
       "      <td>https://s3-media2.fl.yelpcdn.com/bphoto/nMfIDn...</td>\n",
       "      <td>False</td>\n",
       "      <td>https://www.yelp.com/biz/ohana-sushi-sparks-3?...</td>\n",
       "      <td>495</td>\n",
       "      <td>[{'alias': 'sushi', 'title': 'Sushi Bars'}, {'...</td>\n",
       "      <td>4.5</td>\n",
       "      <td>[]</td>\n",
       "      <td>$$</td>\n",
       "      <td>{'address1': '1560 S Stanford Way', 'address2'...</td>\n",
       "      <td>1.775454e+10</td>\n",
       "      <td>(775) 453-9722</td>\n",
       "      <td>10134.379359</td>\n",
       "      <td>39.520660</td>\n",
       "      <td>-119.740751</td>\n",
       "    </tr>\n",
       "    <tr>\n",
       "      <th>4</th>\n",
       "      <td>mc-U-3T6UMN9x7SVm9Yn3A</td>\n",
       "      <td>hinoki-o-reno-2</td>\n",
       "      <td>Hinoki O</td>\n",
       "      <td>https://s3-media4.fl.yelpcdn.com/bphoto/ZsNOKx...</td>\n",
       "      <td>False</td>\n",
       "      <td>https://www.yelp.com/biz/hinoki-o-reno-2?adjus...</td>\n",
       "      <td>26</td>\n",
       "      <td>[{'alias': 'japanese', 'title': 'Japanese'}, {...</td>\n",
       "      <td>5.0</td>\n",
       "      <td>[]</td>\n",
       "      <td>NaN</td>\n",
       "      <td>{'address1': '7500 Rancharrah Pkwy', 'address2...</td>\n",
       "      <td>1.775500e+10</td>\n",
       "      <td>(775) 499-5818</td>\n",
       "      <td>10421.916314</td>\n",
       "      <td>39.468232</td>\n",
       "      <td>-119.793039</td>\n",
       "    </tr>\n",
       "  </tbody>\n",
       "</table>\n",
       "</div>"
      ],
      "text/plain": [
       "                       id                         alias  \\\n",
       "0  pms70Lg_z7c2y5ojukohBQ  miyabi-japanese-cuisine-reno   \n",
       "1  W9y4JkMqy2dFNwYc3Y5cKQ             hinoki-sushi-reno   \n",
       "2  3FPi2yKCIh0Hh3iBg8faYA            tokyo-sushi-reno-2   \n",
       "3  gExn3d0VMMJWlSICsGHGfg          ohana-sushi-sparks-3   \n",
       "4  mc-U-3T6UMN9x7SVm9Yn3A               hinoki-o-reno-2   \n",
       "\n",
       "                      name                                          image_url  \\\n",
       "0  MIYABI Japanese Cuisine  https://s3-media1.fl.yelpcdn.com/bphoto/hE5VjD...   \n",
       "1             Hinoki Sushi  https://s3-media3.fl.yelpcdn.com/bphoto/vwh7Ea...   \n",
       "2              Tokyo Sushi  https://s3-media4.fl.yelpcdn.com/bphoto/WVhsaZ...   \n",
       "3              Ohana Sushi  https://s3-media2.fl.yelpcdn.com/bphoto/nMfIDn...   \n",
       "4                 Hinoki O  https://s3-media4.fl.yelpcdn.com/bphoto/ZsNOKx...   \n",
       "\n",
       "   is_closed                                                url  review_count  \\\n",
       "0      False  https://www.yelp.com/biz/miyabi-japanese-cuisi...           144   \n",
       "1      False  https://www.yelp.com/biz/hinoki-sushi-reno?adj...           843   \n",
       "2      False  https://www.yelp.com/biz/tokyo-sushi-reno-2?ad...           978   \n",
       "3      False  https://www.yelp.com/biz/ohana-sushi-sparks-3?...           495   \n",
       "4      False  https://www.yelp.com/biz/hinoki-o-reno-2?adjus...            26   \n",
       "\n",
       "                                          categories  rating  transactions  \\\n",
       "0  [{'alias': 'sushi', 'title': 'Sushi Bars'}, {'...     4.5            []   \n",
       "1  [{'alias': 'sushi', 'title': 'Sushi Bars'}, {'...     4.0  ['delivery']   \n",
       "2  [{'alias': 'sushi', 'title': 'Sushi Bars'}, {'...     4.0            []   \n",
       "3  [{'alias': 'sushi', 'title': 'Sushi Bars'}, {'...     4.5            []   \n",
       "4  [{'alias': 'japanese', 'title': 'Japanese'}, {...     5.0            []   \n",
       "\n",
       "  price                                           location         phone  \\\n",
       "0    $$  {'address1': '13967 S Virginia St', 'address2'...  1.775409e+10   \n",
       "1    $$  {'address1': '5270 Longley Ln', 'address2': ''...  1.775409e+10   \n",
       "2    $$  {'address1': '1999 S Virginia St', 'address2':...  1.775826e+10   \n",
       "3    $$  {'address1': '1560 S Stanford Way', 'address2'...  1.775454e+10   \n",
       "4   NaN  {'address1': '7500 Rancharrah Pkwy', 'address2...  1.775500e+10   \n",
       "\n",
       "    display_phone      distance   latitude   longitude  \n",
       "0  (775) 409-3520  18553.049571  39.403581 -119.748760  \n",
       "1  (775) 409-4994  11412.584176  39.473411 -119.763924  \n",
       "2  (775) 825-8828   6560.327423  39.504910 -119.803350  \n",
       "3  (775) 453-9722  10134.379359  39.520660 -119.740751  \n",
       "4  (775) 499-5818  10421.916314  39.468232 -119.793039  "
      ]
     },
     "execution_count": 12,
     "metadata": {},
     "output_type": "execute_result"
    }
   ],
   "source": [
    "## Concatenate the 2 new columns and drop the original.\n",
    "df = pd.concat([df, df['coordinates'].apply(pd.Series)], axis=1)\n",
    "df = df.drop(columns='coordinates')\n",
    "df.head()"
   ]
  },
  {
   "cell_type": "markdown",
   "id": "56b25f7a",
   "metadata": {},
   "source": [
    "## Creating a Simple Map"
   ]
  },
  {
   "cell_type": "markdown",
   "id": "cd5bc110",
   "metadata": {},
   "source": [
    "### Register for MapBox API"
   ]
  },
  {
   "cell_type": "markdown",
   "id": "73c91d8f",
   "metadata": {},
   "source": [
    "Mapbox API: https://www.mapbox.com/"
   ]
  },
  {
   "cell_type": "code",
   "execution_count": 13,
   "id": "2e9b4e94",
   "metadata": {},
   "outputs": [
    {
     "data": {
      "text/plain": [
       "dict_keys(['api-key'])"
      ]
     },
     "execution_count": 13,
     "metadata": {},
     "output_type": "execute_result"
    }
   ],
   "source": [
    "## Load in mapbox api credentials from .secret\n",
    "with open('/Users/joshl/.secret/mapbox.json') as f:\n",
    "    login = json.load(f)\n",
    "login.keys()"
   ]
  },
  {
   "cell_type": "markdown",
   "id": "cdb5689c",
   "metadata": {},
   "source": [
    "- Use the plotly express `set_maptbox_acccess_token` function"
   ]
  },
  {
   "cell_type": "code",
   "execution_count": null,
   "id": "7bf3a1c1",
   "metadata": {},
   "outputs": [],
   "source": [
    "## set mapbox token\n"
   ]
  },
  {
   "cell_type": "code",
   "execution_count": null,
   "id": "2214befe",
   "metadata": {},
   "outputs": [],
   "source": [
    "## use scatter_mapbox for M.V.P map\n"
   ]
  },
  {
   "cell_type": "markdown",
   "id": "d5b72ef0",
   "metadata": {},
   "source": [
    "### Adding Hover Data"
   ]
  },
  {
   "cell_type": "markdown",
   "id": "300eddca",
   "metadata": {},
   "source": [
    "- We want to show the restaurants:\n",
    "    - name\n",
    "    - price range\n",
    "    - address\n",
    "    - and if they do delivery or takeout.\n",
    "    \n",
    "    \n",
    "- We can use the `hover_name` and `hover_data` arguments for `px.scatter_mapbox` to add this info!"
   ]
  },
  {
   "cell_type": "code",
   "execution_count": null,
   "id": "46a7ef9e",
   "metadata": {},
   "outputs": [],
   "source": []
  },
  {
   "cell_type": "code",
   "execution_count": null,
   "id": "e05e4e1b",
   "metadata": {
    "scrolled": true
   },
   "outputs": [],
   "source": [
    "## add hover_name (name) and hover_data for price,rating,location\n"
   ]
  },
  {
   "cell_type": "markdown",
   "id": "09d744ca",
   "metadata": {},
   "source": [
    "### Fixing the Location Column"
   ]
  },
  {
   "cell_type": "code",
   "execution_count": null,
   "id": "15e6afdc",
   "metadata": {},
   "outputs": [],
   "source": [
    "## slice out a test address\n"
   ]
  },
  {
   "cell_type": "markdown",
   "id": "b573de0f",
   "metadata": {},
   "source": [
    "> Also a string-dictionary..."
   ]
  },
  {
   "cell_type": "code",
   "execution_count": null,
   "id": "e5862a23",
   "metadata": {},
   "outputs": [],
   "source": [
    "## replace ' with \"\n",
    "df['location'] = df['location'].str.replace(\"'\", '\"')\n",
    "df"
   ]
  },
  {
   "cell_type": "code",
   "execution_count": null,
   "id": "1606ed4a",
   "metadata": {},
   "outputs": [],
   "source": [
    "## apply json.loads\n"
   ]
  },
  {
   "cell_type": "markdown",
   "id": "6e3fc5c2",
   "metadata": {},
   "source": [
    "> Ruh roh....\n",
    "\n",
    "- Hmm, let's slice out a test_address again and let's write a function to accomplish this instead.\n",
    "    - We can use try and except in our function to get around the errors."
   ]
  },
  {
   "cell_type": "markdown",
   "id": "b0fe3a7a",
   "metadata": {},
   "source": [
    "### Fixing Addresses - with a custom function\n"
   ]
  },
  {
   "cell_type": "code",
   "execution_count": null,
   "id": "b1964520",
   "metadata": {},
   "outputs": [],
   "source": [
    "## slice out test address \n",
    "test_addr = df.loc[0, 'location']\n",
    "test_addr"
   ]
  },
  {
   "cell_type": "code",
   "execution_count": null,
   "id": "89ee686e",
   "metadata": {},
   "outputs": [],
   "source": [
    "## write a function to just run json.loads on the address\n"
   ]
  },
  {
   "cell_type": "code",
   "execution_count": null,
   "id": "0d25f01b",
   "metadata": {},
   "outputs": [],
   "source": [
    "## test applying our function\n"
   ]
  },
  {
   "cell_type": "markdown",
   "id": "c8cbc436",
   "metadata": {},
   "source": [
    "- It worked! Now let's save this as a new column (display_location),\n",
    "and then let's investigate the businesses that had an \"ERROR\"."
   ]
  },
  {
   "cell_type": "code",
   "execution_count": null,
   "id": "49a511e8",
   "metadata": {},
   "outputs": [],
   "source": [
    "### save a new display_location column using our function\n"
   ]
  },
  {
   "cell_type": "code",
   "execution_count": null,
   "id": "346a2869",
   "metadata": {},
   "outputs": [],
   "source": [
    "## filter for businesses with display_location == \"ERROR\"\n"
   ]
  },
  {
   "cell_type": "code",
   "execution_count": null,
   "id": "9c115199",
   "metadata": {},
   "outputs": [],
   "source": [
    "## slice out a new test address and inspect\n",
    "test_addr = df.loc[437, 'location']\n",
    "test_addr"
   ]
  },
  {
   "cell_type": "markdown",
   "id": "448fa8c6",
   "metadata": {},
   "source": [
    "> After some more investigation, we would find a few issues with these \"ERROR\" rows.\n",
    "1. They contained None.\n",
    "2. They contained an apostrophe in the name.\n",
    "3. ...?"
   ]
  },
  {
   "cell_type": "markdown",
   "id": "68a960d4",
   "metadata": {},
   "source": [
    "### Possible Fixes (if we care to/have the time)\n"
   ]
  },
  {
   "cell_type": "markdown",
   "id": "7c21eda1",
   "metadata": {},
   "source": [
    "- Use Regular Expressions to find an fix the display addresses with \"'\" in them\n",
    "- Use string split to split on the word display address.\n",
    "    - Then use string methods to clean up"
   ]
  },
  {
   "cell_type": "markdown",
   "id": "df8d68fb",
   "metadata": {},
   "source": [
    "### Moving Forward without those rows (for now)"
   ]
  },
  {
   "cell_type": "code",
   "execution_count": null,
   "id": "bddbcc87",
   "metadata": {},
   "outputs": [],
   "source": [
    "## remove any rows where display_location == 'ERROR'\n"
   ]
  },
  {
   "cell_type": "markdown",
   "id": "c1338cd2",
   "metadata": {},
   "source": [
    "- We want the \"display_address\" key from the \"display_location\" dictionaries.\n",
    "- We could use a .apply and a lamda to slice out the desired key."
   ]
  },
  {
   "cell_type": "code",
   "execution_count": null,
   "id": "82544b10",
   "metadata": {},
   "outputs": [],
   "source": [
    "## use apply and lambda to slice correct key\n"
   ]
  },
  {
   "cell_type": "markdown",
   "id": "c65a79ab",
   "metadata": {},
   "source": [
    "- Almost done! We want to convert display_address to a string instead a list of strings.\n",
    "- We can use the string method .join to do so!"
   ]
  },
  {
   "cell_type": "code",
   "execution_count": null,
   "id": "5f64f1dd",
   "metadata": {},
   "outputs": [],
   "source": [
    "## slice out a test_address\n"
   ]
  },
  {
   "cell_type": "code",
   "execution_count": null,
   "id": "876bb98e",
   "metadata": {},
   "outputs": [],
   "source": [
    "## test using .join with a \"\\n\"\n"
   ]
  },
  {
   "cell_type": "code",
   "execution_count": null,
   "id": "55a6176d",
   "metadata": {
    "scrolled": true
   },
   "outputs": [],
   "source": [
    "## apply the join to every row with a lambda\n"
   ]
  },
  {
   "cell_type": "markdown",
   "id": "09b90087",
   "metadata": {},
   "source": [
    "### Final Map"
   ]
  },
  {
   "cell_type": "code",
   "execution_count": null,
   "id": "0afd236d",
   "metadata": {},
   "outputs": [],
   "source": [
    "## make ourn final map and save as varaible\n"
   ]
  },
  {
   "cell_type": "markdown",
   "id": "47e93ee3",
   "metadata": {},
   "source": [
    "#### HTML Uses `<br>` instead of `\\n`"
   ]
  },
  {
   "cell_type": "code",
   "execution_count": null,
   "id": "d2758626",
   "metadata": {},
   "outputs": [],
   "source": [
    "## remake the final address column with <br> instead \n",
    "\n",
    "## plot the final map"
   ]
  },
  {
   "cell_type": "code",
   "execution_count": null,
   "id": "79e43699",
   "metadata": {},
   "outputs": [],
   "source": [
    "## use fig.write_html to save map\n"
   ]
  }
 ],
 "metadata": {
  "kernelspec": {
   "display_name": "Python (dojo-env)",
   "language": "python",
   "name": "dojo-env"
  },
  "language_info": {
   "codemirror_mode": {
    "name": "ipython",
    "version": 3
   },
   "file_extension": ".py",
   "mimetype": "text/x-python",
   "name": "python",
   "nbconvert_exporter": "python",
   "pygments_lexer": "ipython3",
   "version": "3.9.15"
  },
  "toc": {
   "base_numbering": 1,
   "nav_menu": {},
   "number_sections": false,
   "sideBar": true,
   "skip_h1_title": false,
   "title_cell": "Table of Contents",
   "title_sidebar": "Contents",
   "toc_cell": false,
   "toc_position": {
    "height": "calc(100% - 180px)",
    "left": "10px",
    "top": "150px",
    "width": "299.195px"
   },
   "toc_section_display": true,
   "toc_window_display": true
  }
 },
 "nbformat": 4,
 "nbformat_minor": 5
}
